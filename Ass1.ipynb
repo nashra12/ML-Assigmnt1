{
 "cells": [
  {
   "cell_type": "markdown",
   "id": "19f08ca9-af9b-4c80-8dc0-ddb2bc119f1a",
   "metadata": {},
   "source": [
    "a) Artificial  inteligence"
   ]
  },
  {
   "cell_type": "markdown",
   "id": "5f9abf88-582e-4cc8-b115-054cf8f1693a",
   "metadata": {},
   "source": [
    "ans= AI is smart application which can work without any human .Artificial intelligence is the science of making machines that can think like humans. It can do things that are considered \"smart\"\n",
    "Example= self driving cars,\n",
    "robots"
   ]
  },
  {
   "cell_type": "markdown",
   "id": "4ae59b7b-170f-4a50-94d3-dd07c42e99c6",
   "metadata": {},
   "source": [
    "b) Machine Learning\n",
    "\n",
    "Ans=> ML gives us a smart/tech tools to learn,initialize,visualize the data. ML gives us recommadations example: amazin product recomm\n",
    "dtions "
   ]
  },
  {
   "cell_type": "markdown",
   "id": "196d98dd-4e03-4448-b6ab-2e2b614b200c",
   "metadata": {},
   "source": [
    "c)  Deep learning\n",
    "\n",
    "ans=> DL is a human mimic .when u want to learn deep .Deep learning is a method in artificial intelligence (AI) that teaches computers to process data in a way that is inspired by the human brain."
   ]
  },
  {
   "cell_type": "markdown",
   "id": "80f643cc-0932-459c-94f4-a5d0f2ec9b84",
   "metadata": {},
   "source": [
    "Q2- What is supKrvised machine learning,give example! \n",
    "\n",
    "ans=>  By analyzing patterns and relationships between input and output variables in labeled data, the algorithm learns to make predictions. Image and speech recognition, recommendation systems, and fraud detection are all examples of how supervised learning is used. we can divide it in two types:\n",
    "1) categorical =>when you have inputs and output will be in categorical type .in this case we can predict the possible outcome,\n",
    "example: i have studies 6 hours and play games 3 hours so there is high probabilty to pass in exams so input and output will be how many hours i play and study and output will be pass/fail .\n",
    "2) regression => \n",
    "same as above but in this case we got continuous data as a output like num of rooms and locations of huse willl be input and price of house will be output .here we can predict price of the house and both inputs are indepependent and output is dependent data "
   ]
  },
  {
   "cell_type": "markdown",
   "id": "76ce93cf-7d49-4bad-a81c-844113df731f",
   "metadata": {},
   "source": [
    "Q3-  What is unsupervised machine learning with examples ?\n",
    "\n",
    "\n",
    "ans=> in this type of machine learning we dont know the possible outcome also we cant predict the outcome.Customer segmentation, or understanding different customer groups around which to build marketing or other business strategies. Genetics, for example clustering DNA patterns to analyze evolutionary biology ,here we have data in clusters and in groups format."
   ]
  },
  {
   "cell_type": "markdown",
   "id": "a255b7f4-3d81-4fd8-84c9-af13025fcc5d",
   "metadata": {},
   "source": [
    "Q4- What is the difference between AI, ML, DL, and DS?\n",
    "\n",
    "Ans => AI can handle various tasks, from simple to complex, across domains. ML specializes in data-driven tasks like classification, regression, etc. DL excels at complex tasks like image recognition, natural language processing, and more. AI algorithms can be simple or complex, depending on the application"
   ]
  },
  {
   "cell_type": "markdown",
   "id": "3408a4b1-521d-452f-b079-34e6504751c8",
   "metadata": {},
   "source": [
    "Q5- what are th main difference between suprvised,unsuprevised,and semisupervised ML? \n",
    "\n",
    "\n",
    "Ans=> Semisupervisd is  =supervised + unsupervised \n"
   ]
  },
  {
   "cell_type": "markdown",
   "id": "f5e39510-8866-4cba-8427-d13524c5e647",
   "metadata": {},
   "source": [
    "Q6- What is trained, test and validation split? E=plain thK importance of each term ?\n",
    "\n",
    "\n",
    "Ans=>Trained ,when we make our model firstly we will traind our model to do some particular things after that we will validate our data and give more functionality to make our \n",
    "model from basic to advanced .and finally we will test that model how this is working .Exmple- we read books then we read more standard boks to make our mind\n",
    "more standrd then test held and we give test "
   ]
  },
  {
   "cell_type": "markdown",
   "id": "8de362c9-4cf9-426a-becf-78f235bca157",
   "metadata": {},
   "source": [
    "Q7- How can unsupervised learning be used in anomaly detection?\n",
    "\n",
    "ans=>"
   ]
  },
  {
   "cell_type": "markdown",
   "id": "ee51ff69-b38c-46a8-b104-c44446e71ab9",
   "metadata": {},
   "source": [
    "Q8- List down some commonly used supKrvised learning alorithms and unsupervised learning\n",
    "algorithms.\n",
    "\n",
    "Ans=> The most commonly used Supervised Learning algorithms are decision tree, logistic regression, linear regression, support vector machine. The most commonly used Unsupervised Learning algorithms are k-means clustering, hierarchical clustering, and apriori algorithm"
   ]
  },
  {
   "cell_type": "code",
   "execution_count": null,
   "id": "cce9114c-90f5-40e3-940d-33818688ff63",
   "metadata": {},
   "outputs": [],
   "source": []
  }
 ],
 "metadata": {
  "kernelspec": {
   "display_name": "Python 3 (ipykernel)",
   "language": "python",
   "name": "python3"
  },
  "language_info": {
   "codemirror_mode": {
    "name": "ipython",
    "version": 3
   },
   "file_extension": ".py",
   "mimetype": "text/x-python",
   "name": "python",
   "nbconvert_exporter": "python",
   "pygments_lexer": "ipython3",
   "version": "3.10.8"
  }
 },
 "nbformat": 4,
 "nbformat_minor": 5
}
